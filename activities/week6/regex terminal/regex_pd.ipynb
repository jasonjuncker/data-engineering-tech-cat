{
 "cells": [
  {
   "cell_type": "code",
   "execution_count": 1,
   "metadata": {},
   "outputs": [
    {
     "name": "stdout",
     "output_type": "stream",
     "text": [
      "                                              review\n",
      "0  Great product! Contact me at john.doe@example....\n",
      "1  My credit card number is 1234-5678-9101-1121. ...\n",
      "2  Wonderful service, will buy again! SSN: 987-65...\n",
      "3   Loved it! For issues, email support@company.com.\n",
      "4     Quick delivery and excellent customer support.\n",
      "5  My email is jane.doe@work.net and I had a grea...\n",
      "6  Call me at 555-123-4567 for any further questi...\n",
      "7  I lost my credit card, the number was 4321-876...\n",
      "8      SSN: 123-45-6789 should not be shared openly.\n",
      "9  Best purchase ever! Reach me at user123@domain...\n"
     ]
    }
   ],
   "source": [
    "import pandas as pd\n",
    "\n",
    "data = {\n",
    "    \"review\": [\n",
    "        \"Great product! Contact me at john.doe@example.com for more details.\",\n",
    "        \"My credit card number is 1234-5678-9101-1121. Please keep it safe.\",\n",
    "        \"Wonderful service, will buy again! SSN: 987-65-4321.\",\n",
    "        \"Loved it! For issues, email support@company.com.\",\n",
    "        \"Quick delivery and excellent customer support.\",\n",
    "        \"My email is jane.doe@work.net and I had a great experience.\",\n",
    "        \"Call me at 555-123-4567 for any further questions.\",\n",
    "        \"I lost my credit card, the number was 4321-8765-0987-6543.\",\n",
    "        \"SSN: 123-45-6789 should not be shared openly.\",\n",
    "        \"Best purchase ever! Reach me at user123@domain.org.\"\n",
    "    ]\n",
    "}\n",
    "\n",
    "df = pd.DataFrame(data)\n",
    "print(df)"
   ]
  },
  {
   "cell_type": "code",
   "execution_count": 27,
   "metadata": {},
   "outputs": [
    {
     "name": "stdout",
     "output_type": "stream",
     "text": [
      "                                              review\n",
      "0  Great product! Contact me at [REDACTED_EMAIL] ...\n",
      "1  My credit card number is [REDACTED_CC]. Please...\n",
      "2  Wonderful service, will buy again! SSN: 987-65...\n",
      "3       Loved it! For issues, email [REDACTED_EMAIL]\n",
      "4     Quick delivery and excellent customer support.\n",
      "5  My email is [REDACTED_EMAIL] and I had a great...\n",
      "6  Call me at 555-123-4567 for any further questi...\n",
      "7  I lost my credit card, the number was [REDACTE...\n",
      "8      SSN: 123-45-6789 should not be shared openly.\n",
      "9   Best purchase ever! Reach me at [REDACTED_EMAIL]\n"
     ]
    }
   ],
   "source": [
    "import re\n",
    "\n",
    "#df['review'] = df['review'].str.replace(r\"\\S+@\\w*.\\S+\", \"[REDACTED_EMAIL]\")\n",
    "#df['review'] = df['review'].str.replace(r\"\\d{4}-\\d{4}-\\d{4}-\\d{4}\", \"[REDACTED_CC]\")\n",
    "\n",
    "\n",
    "df['review'] = df['review'].apply(lambda x: re.sub(\"\\S+@\\w*.\\S+\", \"[REDACTED_EMAIL]\", x))\n",
    "df['review'] = df['review'].apply(lambda x: re.sub(\"\\d{4}-\\d{4}-\\d{4}-\\d{4}\", \"[REDACTED_CC]\", x))\n",
    "\n",
    "print(df)\n",
    "\n",
    "    "
   ]
  }
 ],
 "metadata": {
  "kernelspec": {
   "display_name": "Python 3",
   "language": "python",
   "name": "python3"
  },
  "language_info": {
   "codemirror_mode": {
    "name": "ipython",
    "version": 3
   },
   "file_extension": ".py",
   "mimetype": "text/x-python",
   "name": "python",
   "nbconvert_exporter": "python",
   "pygments_lexer": "ipython3",
   "version": "3.10.13"
  }
 },
 "nbformat": 4,
 "nbformat_minor": 2
}
